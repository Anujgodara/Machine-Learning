{
 "cells": [
  {
   "cell_type": "code",
   "execution_count": 1,
   "metadata": {},
   "outputs": [],
   "source": [
    "import pandas as pd"
   ]
  },
  {
   "cell_type": "code",
   "execution_count": 2,
   "metadata": {},
   "outputs": [],
   "source": [
    "data = pd.read_csv('insurance.csv')"
   ]
  },
  {
   "cell_type": "code",
   "execution_count": 3,
   "metadata": {},
   "outputs": [
    {
     "data": {
      "text/html": [
       "<div>\n",
       "<style scoped>\n",
       "    .dataframe tbody tr th:only-of-type {\n",
       "        vertical-align: middle;\n",
       "    }\n",
       "\n",
       "    .dataframe tbody tr th {\n",
       "        vertical-align: top;\n",
       "    }\n",
       "\n",
       "    .dataframe thead th {\n",
       "        text-align: right;\n",
       "    }\n",
       "</style>\n",
       "<table border=\"1\" class=\"dataframe\">\n",
       "  <thead>\n",
       "    <tr style=\"text-align: right;\">\n",
       "      <th></th>\n",
       "      <th>age</th>\n",
       "      <th>sex</th>\n",
       "      <th>bmi</th>\n",
       "      <th>children</th>\n",
       "      <th>smoker</th>\n",
       "      <th>region</th>\n",
       "      <th>charges</th>\n",
       "    </tr>\n",
       "  </thead>\n",
       "  <tbody>\n",
       "    <tr>\n",
       "      <th>0</th>\n",
       "      <td>19</td>\n",
       "      <td>female</td>\n",
       "      <td>27.900</td>\n",
       "      <td>0</td>\n",
       "      <td>yes</td>\n",
       "      <td>southwest</td>\n",
       "      <td>16884.92400</td>\n",
       "    </tr>\n",
       "    <tr>\n",
       "      <th>1</th>\n",
       "      <td>18</td>\n",
       "      <td>male</td>\n",
       "      <td>33.770</td>\n",
       "      <td>1</td>\n",
       "      <td>no</td>\n",
       "      <td>southeast</td>\n",
       "      <td>1725.55230</td>\n",
       "    </tr>\n",
       "    <tr>\n",
       "      <th>2</th>\n",
       "      <td>28</td>\n",
       "      <td>male</td>\n",
       "      <td>33.000</td>\n",
       "      <td>3</td>\n",
       "      <td>no</td>\n",
       "      <td>southeast</td>\n",
       "      <td>4449.46200</td>\n",
       "    </tr>\n",
       "    <tr>\n",
       "      <th>3</th>\n",
       "      <td>33</td>\n",
       "      <td>male</td>\n",
       "      <td>22.705</td>\n",
       "      <td>0</td>\n",
       "      <td>no</td>\n",
       "      <td>northwest</td>\n",
       "      <td>21984.47061</td>\n",
       "    </tr>\n",
       "    <tr>\n",
       "      <th>4</th>\n",
       "      <td>32</td>\n",
       "      <td>male</td>\n",
       "      <td>28.880</td>\n",
       "      <td>0</td>\n",
       "      <td>no</td>\n",
       "      <td>northwest</td>\n",
       "      <td>3866.85520</td>\n",
       "    </tr>\n",
       "  </tbody>\n",
       "</table>\n",
       "</div>"
      ],
      "text/plain": [
       "   age     sex     bmi  children smoker     region      charges\n",
       "0   19  female  27.900         0    yes  southwest  16884.92400\n",
       "1   18    male  33.770         1     no  southeast   1725.55230\n",
       "2   28    male  33.000         3     no  southeast   4449.46200\n",
       "3   33    male  22.705         0     no  northwest  21984.47061\n",
       "4   32    male  28.880         0     no  northwest   3866.85520"
      ]
     },
     "execution_count": 3,
     "metadata": {},
     "output_type": "execute_result"
    }
   ],
   "source": [
    "data.head()"
   ]
  },
  {
   "cell_type": "code",
   "execution_count": 4,
   "metadata": {},
   "outputs": [],
   "source": [
    "from sklearn.preprocessing import LabelEncoder"
   ]
  },
  {
   "cell_type": "code",
   "execution_count": 5,
   "metadata": {},
   "outputs": [],
   "source": [
    "lr = LabelEncoder()"
   ]
  },
  {
   "cell_type": "code",
   "execution_count": 6,
   "metadata": {},
   "outputs": [
    {
     "data": {
      "text/html": [
       "<div>\n",
       "<style scoped>\n",
       "    .dataframe tbody tr th:only-of-type {\n",
       "        vertical-align: middle;\n",
       "    }\n",
       "\n",
       "    .dataframe tbody tr th {\n",
       "        vertical-align: top;\n",
       "    }\n",
       "\n",
       "    .dataframe thead th {\n",
       "        text-align: right;\n",
       "    }\n",
       "</style>\n",
       "<table border=\"1\" class=\"dataframe\">\n",
       "  <thead>\n",
       "    <tr style=\"text-align: right;\">\n",
       "      <th></th>\n",
       "      <th>age</th>\n",
       "      <th>sex</th>\n",
       "      <th>bmi</th>\n",
       "      <th>children</th>\n",
       "      <th>smoker</th>\n",
       "      <th>region</th>\n",
       "      <th>charges</th>\n",
       "    </tr>\n",
       "  </thead>\n",
       "  <tbody>\n",
       "    <tr>\n",
       "      <th>0</th>\n",
       "      <td>19</td>\n",
       "      <td>0</td>\n",
       "      <td>27.900</td>\n",
       "      <td>0</td>\n",
       "      <td>1</td>\n",
       "      <td>3</td>\n",
       "      <td>16884.92400</td>\n",
       "    </tr>\n",
       "    <tr>\n",
       "      <th>1</th>\n",
       "      <td>18</td>\n",
       "      <td>1</td>\n",
       "      <td>33.770</td>\n",
       "      <td>1</td>\n",
       "      <td>0</td>\n",
       "      <td>2</td>\n",
       "      <td>1725.55230</td>\n",
       "    </tr>\n",
       "    <tr>\n",
       "      <th>2</th>\n",
       "      <td>28</td>\n",
       "      <td>1</td>\n",
       "      <td>33.000</td>\n",
       "      <td>3</td>\n",
       "      <td>0</td>\n",
       "      <td>2</td>\n",
       "      <td>4449.46200</td>\n",
       "    </tr>\n",
       "    <tr>\n",
       "      <th>3</th>\n",
       "      <td>33</td>\n",
       "      <td>1</td>\n",
       "      <td>22.705</td>\n",
       "      <td>0</td>\n",
       "      <td>0</td>\n",
       "      <td>1</td>\n",
       "      <td>21984.47061</td>\n",
       "    </tr>\n",
       "    <tr>\n",
       "      <th>4</th>\n",
       "      <td>32</td>\n",
       "      <td>1</td>\n",
       "      <td>28.880</td>\n",
       "      <td>0</td>\n",
       "      <td>0</td>\n",
       "      <td>1</td>\n",
       "      <td>3866.85520</td>\n",
       "    </tr>\n",
       "    <tr>\n",
       "      <th>...</th>\n",
       "      <td>...</td>\n",
       "      <td>...</td>\n",
       "      <td>...</td>\n",
       "      <td>...</td>\n",
       "      <td>...</td>\n",
       "      <td>...</td>\n",
       "      <td>...</td>\n",
       "    </tr>\n",
       "    <tr>\n",
       "      <th>1333</th>\n",
       "      <td>50</td>\n",
       "      <td>1</td>\n",
       "      <td>30.970</td>\n",
       "      <td>3</td>\n",
       "      <td>0</td>\n",
       "      <td>1</td>\n",
       "      <td>10600.54830</td>\n",
       "    </tr>\n",
       "    <tr>\n",
       "      <th>1334</th>\n",
       "      <td>18</td>\n",
       "      <td>0</td>\n",
       "      <td>31.920</td>\n",
       "      <td>0</td>\n",
       "      <td>0</td>\n",
       "      <td>0</td>\n",
       "      <td>2205.98080</td>\n",
       "    </tr>\n",
       "    <tr>\n",
       "      <th>1335</th>\n",
       "      <td>18</td>\n",
       "      <td>0</td>\n",
       "      <td>36.850</td>\n",
       "      <td>0</td>\n",
       "      <td>0</td>\n",
       "      <td>2</td>\n",
       "      <td>1629.83350</td>\n",
       "    </tr>\n",
       "    <tr>\n",
       "      <th>1336</th>\n",
       "      <td>21</td>\n",
       "      <td>0</td>\n",
       "      <td>25.800</td>\n",
       "      <td>0</td>\n",
       "      <td>0</td>\n",
       "      <td>3</td>\n",
       "      <td>2007.94500</td>\n",
       "    </tr>\n",
       "    <tr>\n",
       "      <th>1337</th>\n",
       "      <td>61</td>\n",
       "      <td>0</td>\n",
       "      <td>29.070</td>\n",
       "      <td>0</td>\n",
       "      <td>1</td>\n",
       "      <td>1</td>\n",
       "      <td>29141.36030</td>\n",
       "    </tr>\n",
       "  </tbody>\n",
       "</table>\n",
       "<p>1338 rows × 7 columns</p>\n",
       "</div>"
      ],
      "text/plain": [
       "      age  sex     bmi  children  smoker  region      charges\n",
       "0      19    0  27.900         0       1       3  16884.92400\n",
       "1      18    1  33.770         1       0       2   1725.55230\n",
       "2      28    1  33.000         3       0       2   4449.46200\n",
       "3      33    1  22.705         0       0       1  21984.47061\n",
       "4      32    1  28.880         0       0       1   3866.85520\n",
       "...   ...  ...     ...       ...     ...     ...          ...\n",
       "1333   50    1  30.970         3       0       1  10600.54830\n",
       "1334   18    0  31.920         0       0       0   2205.98080\n",
       "1335   18    0  36.850         0       0       2   1629.83350\n",
       "1336   21    0  25.800         0       0       3   2007.94500\n",
       "1337   61    0  29.070         0       1       1  29141.36030\n",
       "\n",
       "[1338 rows x 7 columns]"
      ]
     },
     "execution_count": 6,
     "metadata": {},
     "output_type": "execute_result"
    }
   ],
   "source": [
    "dfle = data\n",
    "dfle.sex = lr.fit_transform(data.sex)\n",
    "dfle.smoker = lr.fit_transform(data.smoker)\n",
    "dfle.region = lr.fit_transform(data.region)\n",
    "dfle"
   ]
  },
  {
   "cell_type": "code",
   "execution_count": 7,
   "metadata": {},
   "outputs": [
    {
     "data": {
      "text/plain": [
       "array([[19.  ,  0.  , 27.9 ,  0.  ,  1.  ,  3.  ],\n",
       "       [18.  ,  1.  , 33.77,  1.  ,  0.  ,  2.  ],\n",
       "       [28.  ,  1.  , 33.  ,  3.  ,  0.  ,  2.  ],\n",
       "       ...,\n",
       "       [18.  ,  0.  , 36.85,  0.  ,  0.  ,  2.  ],\n",
       "       [21.  ,  0.  , 25.8 ,  0.  ,  0.  ,  3.  ],\n",
       "       [61.  ,  0.  , 29.07,  0.  ,  1.  ,  1.  ]])"
      ]
     },
     "execution_count": 7,
     "metadata": {},
     "output_type": "execute_result"
    }
   ],
   "source": [
    "X = dfle[['age','sex','bmi','children','smoker','region']].values\n",
    "X"
   ]
  },
  {
   "cell_type": "code",
   "execution_count": 8,
   "metadata": {},
   "outputs": [
    {
     "data": {
      "text/plain": [
       "0       16884.92400\n",
       "1        1725.55230\n",
       "2        4449.46200\n",
       "3       21984.47061\n",
       "4        3866.85520\n",
       "           ...     \n",
       "1333    10600.54830\n",
       "1334     2205.98080\n",
       "1335     1629.83350\n",
       "1336     2007.94500\n",
       "1337    29141.36030\n",
       "Name: charges, Length: 1338, dtype: float64"
      ]
     },
     "execution_count": 8,
     "metadata": {},
     "output_type": "execute_result"
    }
   ],
   "source": [
    "y = dfle.iloc[:,-1]\n",
    "y"
   ]
  },
  {
   "cell_type": "code",
   "execution_count": 9,
   "metadata": {},
   "outputs": [],
   "source": [
    "from sklearn.preprocessing import OneHotEncoder"
   ]
  },
  {
   "cell_type": "code",
   "execution_count": 10,
   "metadata": {},
   "outputs": [],
   "source": [
    "from sklearn.compose import ColumnTransformer"
   ]
  },
  {
   "cell_type": "code",
   "execution_count": 11,
   "metadata": {},
   "outputs": [],
   "source": [
    "ct0 = ColumnTransformer([('ohe',OneHotEncoder(),[1,4,5])],remainder='passthrough') #apply onehotencoding on 3 columns"
   ]
  },
  {
   "cell_type": "code",
   "execution_count": 12,
   "metadata": {},
   "outputs": [
    {
     "data": {
      "text/plain": [
       "array([ 1. ,  0. ,  0. ,  1. ,  0. ,  0. ,  0. ,  1. , 19. , 27.9,  0. ])"
      ]
     },
     "execution_count": 12,
     "metadata": {},
     "output_type": "execute_result"
    }
   ],
   "source": [
    "XX = ct0.fit_transform(X)\n",
    "XX[0]"
   ]
  },
  {
   "cell_type": "code",
   "execution_count": 13,
   "metadata": {},
   "outputs": [],
   "source": [
    "from sklearn.model_selection import train_test_split"
   ]
  },
  {
   "cell_type": "code",
   "execution_count": 14,
   "metadata": {},
   "outputs": [],
   "source": [
    "X_train,X_test,y_train,y_test = train_test_split(XX,y,test_size=0.2)"
   ]
  },
  {
   "cell_type": "code",
   "execution_count": 15,
   "metadata": {},
   "outputs": [
    {
     "name": "stdout",
     "output_type": "stream",
     "text": [
      "(1070, 11) (268, 11)\n",
      "(1070,) (268,)\n"
     ]
    }
   ],
   "source": [
    "print(X_train.shape,X_test.shape)\n",
    "print(y_train.shape,y_test.shape)"
   ]
  },
  {
   "cell_type": "code",
   "execution_count": 16,
   "metadata": {},
   "outputs": [],
   "source": [
    "from sklearn.linear_model import LinearRegression"
   ]
  },
  {
   "cell_type": "code",
   "execution_count": 17,
   "metadata": {},
   "outputs": [],
   "source": [
    "reg = LinearRegression()"
   ]
  },
  {
   "cell_type": "code",
   "execution_count": 18,
   "metadata": {},
   "outputs": [
    {
     "data": {
      "text/plain": [
       "LinearRegression(copy_X=True, fit_intercept=True, n_jobs=None, normalize=False)"
      ]
     },
     "execution_count": 18,
     "metadata": {},
     "output_type": "execute_result"
    }
   ],
   "source": [
    "reg.fit(X_train,y_train)"
   ]
  },
  {
   "cell_type": "code",
   "execution_count": 19,
   "metadata": {},
   "outputs": [
    {
     "name": "stdout",
     "output_type": "stream",
     "text": [
      "[ 0.     1.     0.     1.     1.     0.     0.     0.    53.    34.105\n",
      "  0.   ]\n"
     ]
    }
   ],
   "source": [
    "print(X_test[0])"
   ]
  },
  {
   "cell_type": "code",
   "execution_count": 20,
   "metadata": {},
   "outputs": [
    {
     "data": {
      "text/plain": [
       "array([ 3.67116476e+04,  1.22559186e+04,  6.20685274e+03,  1.08743445e+04,\n",
       "        3.89697707e+04,  1.15583258e+04,  1.27215093e+04,  6.43337237e+03,\n",
       "        1.47721031e+04, -3.71066439e+02,  3.38002605e+04,  1.01954187e+04,\n",
       "        1.40693026e+04,  2.90581034e+04,  3.97791571e+03,  1.14353105e+03,\n",
       "        1.16507115e+04,  1.12164211e+04,  1.05309690e+03,  1.22356268e+04,\n",
       "        1.58512680e+04,  8.13394624e+03,  3.77517630e+04,  2.96781600e+04,\n",
       "        1.53619123e+04,  2.69005702e+03,  9.67820307e+03,  8.53053323e+03,\n",
       "        1.38249909e+03,  1.19234553e+04,  1.13748514e+04,  9.44096807e+02,\n",
       "        1.19649670e+04,  3.00480986e+04,  3.24025225e+04,  3.67389242e+03,\n",
       "        3.11606849e+03,  1.89188916e+03,  3.55052926e+04,  1.62004332e+04,\n",
       "        2.69448840e+04,  3.82864640e+04,  2.85493907e+03,  8.99792707e+03,\n",
       "        7.65467338e+03,  3.56896050e+04,  1.79331317e+02,  3.85341068e+04,\n",
       "        5.45476633e+03,  1.11613022e+04,  1.32746970e+04,  5.57989222e+03,\n",
       "        8.99783936e+03,  1.18135925e+04,  3.28509180e+03,  9.95408779e+03,\n",
       "        9.21216356e+03,  8.15990597e+03,  6.09462639e+03,  9.71370598e+03,\n",
       "        1.60355337e+04,  1.20429136e+04,  8.17135255e+03,  9.36701907e+03,\n",
       "        9.75954730e+03,  1.15419862e+04,  1.03908763e+04,  1.90366481e+03,\n",
       "       -2.36838355e+03,  7.96602820e+03,  3.07202521e+04, -1.31611570e+02,\n",
       "        9.68774279e+03,  1.44728678e+04,  5.61104584e+03,  3.33955365e+03,\n",
       "        1.07841369e+04,  2.47805936e+02,  1.15371913e+04,  1.14431117e+04,\n",
       "        9.72991322e+03,  2.67771701e+04,  8.27024202e+03,  9.46131143e+03,\n",
       "        3.17860409e+04,  8.03932794e+03,  5.75959806e+03,  5.37439483e+03,\n",
       "       -1.76470999e+01,  2.57762478e+04,  1.24951014e+04,  1.60451998e+04,\n",
       "        3.80925727e+04,  6.29348302e+03,  1.12847658e+04,  4.69594030e+03,\n",
       "        8.08470647e+03,  3.23079727e+03,  2.96256034e+04,  3.93621455e+03,\n",
       "        1.02274756e+04,  8.93642015e+03,  1.02756624e+04,  1.13922681e+04,\n",
       "        1.33288531e+04,  3.02601402e+03,  3.10850198e+04,  2.83834870e+04,\n",
       "        3.84058127e+04,  1.51245761e+04,  1.03707639e+04,  1.58276293e+04,\n",
       "        1.68026538e+03,  6.59168313e+03,  2.54747021e+04,  3.03561300e+03,\n",
       "        1.41000646e+04,  1.34994851e+04,  2.64817363e+04,  5.07768022e+03,\n",
       "        9.81981132e+03,  2.83419058e+04,  3.27037491e+04, -9.92704183e+02,\n",
       "        3.32299212e+04,  1.15550509e+04,  4.49209746e+03,  5.69764579e+03,\n",
       "        2.42081165e+04,  9.25904043e+03,  5.12454939e+03,  1.65714032e+04,\n",
       "        4.46235440e+03,  1.23202155e+04,  9.90885634e+03,  1.11991903e+04,\n",
       "        4.28909115e+03,  2.88259102e+04,  3.05695076e+03,  8.16854215e+03,\n",
       "        3.12383612e+03,  6.40036956e+03,  2.40093371e+03,  3.31693662e+03,\n",
       "        1.26675285e+04,  6.01047781e+03,  3.44630004e+03,  3.55951722e+04,\n",
       "        4.50962466e+03,  1.08460073e+04,  1.42908427e+03,  6.78960615e+03,\n",
       "        3.37105051e+04,  3.01929012e+04,  4.56656651e+03,  6.78459464e+03,\n",
       "        5.90797713e+02,  7.04381590e+03,  9.25167993e+03,  1.63740737e+04,\n",
       "        8.99663767e+03,  3.82814223e+03,  5.17738588e+03,  3.56791984e+04,\n",
       "        1.15331270e+04,  1.11468798e+04,  3.05131843e+04,  6.29544292e+03,\n",
       "        9.94153486e+03,  2.96231215e+03,  8.54238864e+03,  4.87661662e+03,\n",
       "        1.19830276e+04,  3.58182778e+04,  2.70660639e+04,  5.48034057e+03,\n",
       "        1.48981712e+04,  2.24774394e+03,  1.43265875e+04,  9.20471748e+03,\n",
       "        1.39311982e+04,  1.06805122e+04,  3.27922021e+04,  2.79202741e+04,\n",
       "        3.90619985e+04,  7.49593838e+03,  1.13335952e+04,  2.85335072e+04,\n",
       "        2.98423917e+04,  1.38350476e+04,  3.58851813e+04,  2.59893559e+04,\n",
       "        2.68935434e+04,  2.70540545e+03,  7.77140521e+03,  1.01975947e+04,\n",
       "        2.38853533e+04,  3.68966188e+04,  1.52184336e+03,  3.00859733e+03,\n",
       "        2.65033539e+04,  2.94544172e+03,  1.32981747e+04,  3.58160045e+03,\n",
       "        1.36078373e+04,  9.67925582e+03,  8.31060738e+03,  1.01793446e+04,\n",
       "        1.66382892e+04,  4.24331556e+03, -5.49998094e+01,  2.57129441e+03,\n",
       "        3.41582805e+04,  2.96231215e+03,  5.52131745e+03,  8.68543251e+03,\n",
       "        1.23748522e+04,  2.03106856e+03,  1.23114276e+04,  4.56813884e+03,\n",
       "        2.68851387e+04,  1.08939148e+04,  1.13062472e+04,  3.33693275e+03,\n",
       "        1.04122413e+04,  3.24290405e+04,  7.35510629e+03,  9.10107852e+03,\n",
       "        8.14870003e+03,  1.13994012e+04,  3.88037839e+03,  1.15893771e+04,\n",
       "        1.51881577e+04,  3.61111456e+04,  3.15203715e+04,  3.75505726e+04,\n",
       "        1.46286253e+04, -1.97896583e+03,  1.02830429e+04,  7.47625076e+03,\n",
       "       -2.28820706e+02,  1.84410900e+03,  8.72463502e+03,  1.10208548e+04,\n",
       "        1.45083983e+04,  5.50260008e+03,  1.10053697e+04,  1.11347435e+04,\n",
       "        7.21803312e+02,  1.14375907e+04,  9.63196854e+03,  7.73375682e+03,\n",
       "        2.93450129e+04,  1.02988517e+04,  4.11449003e+03,  1.57772290e+04,\n",
       "        2.86329836e+04,  3.65742602e+03,  1.17435376e+04,  1.10358603e+04,\n",
       "        1.83487519e+04,  3.09067729e+04,  9.00842143e+03,  7.64283662e+03,\n",
       "        9.66110949e+03,  3.13170251e+04,  1.27261750e+04,  1.25876283e+04])"
      ]
     },
     "execution_count": 20,
     "metadata": {},
     "output_type": "execute_result"
    }
   ],
   "source": [
    "reg.predict(X_test)"
   ]
  },
  {
   "cell_type": "code",
   "execution_count": 21,
   "metadata": {},
   "outputs": [
    {
     "data": {
      "text/plain": [
       "0.7576825313657234"
      ]
     },
     "execution_count": 21,
     "metadata": {},
     "output_type": "execute_result"
    }
   ],
   "source": [
    "reg.score(X_test,y_test)"
   ]
  },
  {
   "cell_type": "code",
   "execution_count": 23,
   "metadata": {},
   "outputs": [
    {
     "data": {
      "text/plain": [
       "array([24775.6482428])"
      ]
     },
     "execution_count": 23,
     "metadata": {},
     "output_type": "execute_result"
    }
   ],
   "source": [
    "reg.predict([[1,0,0,1,0,0,0,1,19,27.9,0]])  #predicting charges for female,smoker,southwest region"
   ]
  }
 ],
 "metadata": {
  "kernelspec": {
   "display_name": "Python 3",
   "language": "python",
   "name": "python3"
  },
  "language_info": {
   "codemirror_mode": {
    "name": "ipython",
    "version": 3
   },
   "file_extension": ".py",
   "mimetype": "text/x-python",
   "name": "python",
   "nbconvert_exporter": "python",
   "pygments_lexer": "ipython3",
   "version": "3.7.3"
  }
 },
 "nbformat": 4,
 "nbformat_minor": 2
}
